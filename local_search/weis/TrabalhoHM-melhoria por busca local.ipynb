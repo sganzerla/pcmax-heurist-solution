{
 "cells": [
  {
   "cell_type": "code",
   "execution_count": 20,
   "metadata": {},
   "outputs": [
    {
     "name": "stdout",
     "output_type": "stream",
     "text": [
      "M1 [57, 57, 40, 36, 11, 88]\n",
      "IBM [10, 0, 4, 9, 7, 1]\n",
      "SM1 289\n",
      "M2 [74, 18, 32, 107, 59, 39]\n",
      "ICM [11, 3, 8, 6, 2, 5]\n",
      "SM2 329\n",
      "makespan - inicial 329\n",
      "-----------------------------\n",
      "-----------------------------\n",
      "M12 [57, 57, 40, 36, 107, 88]\n",
      "IBM2 [10, 0, 4, 9, 6, 1]\n",
      "SM12 385\n",
      "M22 [74, 18, 32, 11, 59, 39]\n",
      "ICM2 [11, 3, 8, 7, 2, 5]\n",
      "SM22 233\n",
      "makespan - final 385\n"
     ]
    }
   ],
   "source": [
    "FO_m1 = np.sum(m1)\n",
    "FO_m2 = np.sum(m2)\n",
    "TTi = max(FO_m1, FO_m2)\n",
    "print ('M1',m1)\n",
    "print ('IBM',ibm)\n",
    "print ('SM1',FO_m1)\n",
    "print ('M2',m2)\n",
    "print ('ICM',icm)\n",
    "print ('SM2',FO_m2)\n",
    "print ('makespan - inicial',TTi)\n",
    "print ('-----------------------------')\n",
    "if FO_m1 > FO_m2:\n",
    "        b = max(m1)\n",
    "        c = min(m2)\n",
    "        # posições\n",
    "        m1loc = np.argwhere(b == m1)\n",
    "        m2loc = np.argwhere(c == m2)\n",
    "        x = m1loc[0][0]\n",
    "        y = m2loc[0][0]\n",
    "        ibm[x] = vlocx       \n",
    "        icm[y] = vlocy\n",
    "        vlocy = ibm[x]\n",
    "        vlocx = icm[y]\n",
    "        m1[x] = c\n",
    "        m2[y] = b\n",
    "        FO_m1 = np.sum(m1)\n",
    "        FO_m2 = np.sum(m2)\n",
    "        TTf = max(FO_m1, FO_m2)\n",
    "        print ('M11',m1)\n",
    "        print ('IBM1',ibm)\n",
    "        print ('SM11',FO_m1)\n",
    "        print ('M21',m2)\n",
    "        print ('ICM1',icm)\n",
    "        print ('SM21',FO_m2)\n",
    "        print ('makespan - final',TTf)\n",
    "        print ('-----------------------------')\n",
    "elif FO_m1 < FO_m2:\n",
    "        b = min(m1)\n",
    "        c = max(m2)\n",
    "        # posições\n",
    "        m1loc = np.argwhere(b == m1)\n",
    "        m2loc = np.argwhere(c == m2)\n",
    "        x = m1loc[0][0]\n",
    "        y = m2loc[0][0]\n",
    "        vlocx = ibm[x]     \n",
    "        vlocy = icm[y]\n",
    "        ibm[x] = vlocy\n",
    "        icm[y] = vlocx\n",
    "        m1[x] = c\n",
    "        m2[y] = b\n",
    "        FO_m1 = np.sum(m1)\n",
    "        FO_m2 = np.sum(m2)\n",
    "        TTf = max(FO_m1, FO_m2)\n",
    "        print ('-----------------------------')\n",
    "        print ('M12',m1)\n",
    "        print ('IBM2',ibm)\n",
    "        print ('SM12',FO_m1)\n",
    "        print ('M22',m2)\n",
    "        print ('ICM2',icm)\n",
    "        print ('SM22',FO_m2)\n",
    "        print ('makespan - final',TTf)\n",
    "else:   \n",
    "    print ('end')"
   ]
  },
  {
   "cell_type": "code",
   "execution_count": null,
   "metadata": {},
   "outputs": [],
   "source": []
  }
 ],
 "metadata": {
  "kernelspec": {
   "display_name": "Python 3 (ipykernel)",
   "language": "python",
   "name": "python3"
  },
  "language_info": {
   "codemirror_mode": {
    "name": "ipython",
    "version": 3
   },
   "file_extension": ".py",
   "mimetype": "text/x-python",
   "name": "python",
   "nbconvert_exporter": "python",
   "pygments_lexer": "ipython3",
   "version": "3.9.7"
  }
 },
 "nbformat": 4,
 "nbformat_minor": 2
}

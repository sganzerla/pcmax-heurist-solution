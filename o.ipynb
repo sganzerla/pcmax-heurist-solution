{
 "cells": [
  {
   "cell_type": "code",
   "execution_count": 46,
   "metadata": {},
   "outputs": [
    {
     "name": "stdout",
     "output_type": "stream",
     "text": [
      "4\n",
      "Machine: 2\n",
      "Jobs: 10\n",
      "Times: [1, 2, 3, 4, 5, 6, 7, 8, 9, 10]\n",
      "Matriz com Setups\n",
      "     0    1    2    3    4    5    6    7    8    9\n",
      "0  501   94   49   23   66   92   17   82   49   88\n",
      "1   58  502   96   95   98   50   83   62   51   29\n",
      "2   58   52  503   85   57   24   71   23   28   23\n",
      "3   21   25   10  504   87   91   18   86   46   80\n",
      "4   34   39   42   76  505   71   42   71   33   57\n",
      "5   34   41   44   78   18  506   95   16   52   35\n",
      "6   36   57   53   87   35   71  507   63   35   73\n",
      "7   77   71   81  111   57  103  102  508   62   98\n",
      "8   35   39   26   35   50   17   25   40  509   28\n",
      "9   61   41   43   29   64   40   60   22   31  510\n"
     ]
    }
   ],
   "source": [
    "import pandas as pd\n",
    "\n",
    "\n",
    "class InstanceData:\n",
    "    def __init__(self, machines: int, jobs: int, times: list[int], setups: list[list[int]]):\n",
    "        self.M = range(machines)\n",
    "        self.J = range(jobs)\n",
    "        self.T = times\n",
    "        self.S = setups\n",
    "\n",
    "\n",
    "def read_file(file) -> InstanceData:\n",
    "\n",
    "    # gera um vetor com conteudo de cada linha em cada posição\n",
    "    data = open(file, 'r').readlines()\n",
    "\n",
    "    #-----------------machines ----------------------------#\n",
    "    machines = int(data[0])\n",
    "\n",
    "    # -----------------jobs ------------------------------#\n",
    "    jobs = int(data[1])\n",
    "\n",
    "    # --------------- times -------------------------------#\n",
    "    # segunda linha em diante até linha 2 + quantidade de jobs\n",
    "    str_times = ' '.join(str(i) for i in data[2: 2 + jobs])\n",
    "    times = [int(i) for i in str_times.split() if i.isdigit()]\n",
    "\n",
    "    # ------------------ setup --------------------------#\n",
    "    # depois da 2 + n jobs + machines (zeros) até  total de linhas - (2 + n jobs + machines) tempos de setup\n",
    "    jm = jobs + machines  # tarefas + maquinas dummys (linhas zeros)\n",
    "\n",
    "    str_setups = ' '.join(str(i) for i in data[2 + jm: len(data) - 2 + jm])\n",
    "    setups_list = [int(i) for i in str_setups.split() if i.isdigit()]\n",
    "    setups_matrix = [setups_list[i::jm] for i in range(jm)]\n",
    "\n",
    "    df = pd.DataFrame(setups_matrix)\n",
    "\n",
    "    # apagando últimas linhas dummy\n",
    "    df.drop(df.tail(machines).index, inplace=True)\n",
    "    # apagando últimas colunas dummy\n",
    "    index_column = [i for i in range(jobs + machines) if i >= jobs]\n",
    "    df.drop(df.columns[index_column], axis=1, inplace=True)\n",
    "\n",
    "    return InstanceData(machines, jobs, times, df.T)\n",
    "\n",
    "\n",
    "if __name__ == \"__main__\":\n",
    "\n",
    "    file = 's_g01_01_0009_010_02_01.txt'\n",
    "\n",
    "    # extraindo dados de uma instância\n",
    "    instance = read_file(file)\n",
    "\n",
    "    print(f\"Machine: {len(instance.M)}\")\n",
    "    print(f\"Jobs: {len(instance.J)}\")\n",
    "    print(f\"Times: {instance.T}\")\n",
    "    print(\"Matriz com Setups\")\n",
    "    print(pd.DataFrame(instance.S))\n"
   ]
  }
 ],
 "metadata": {
  "kernelspec": {
   "display_name": "Python 3.9.13 64-bit (microsoft store)",
   "language": "python",
   "name": "python3"
  },
  "language_info": {
   "codemirror_mode": {
    "name": "ipython",
    "version": 3
   },
   "file_extension": ".py",
   "mimetype": "text/x-python",
   "name": "python",
   "nbconvert_exporter": "python",
   "pygments_lexer": "ipython3",
   "version": "3.9.13"
  },
  "orig_nbformat": 4,
  "vscode": {
   "interpreter": {
    "hash": "d4ecc00314b053340c011f30feae2cb0599056a19fa729c140ca6ecfe444bda2"
   }
  }
 },
 "nbformat": 4,
 "nbformat_minor": 2
}

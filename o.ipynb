{
 "cells": [
  {
   "cell_type": "code",
   "execution_count": 18,
   "metadata": {},
   "outputs": [
    {
     "name": "stdout",
     "output_type": "stream",
     "text": [
      "Machine: 5\n",
      "Jobs: 100\n",
      "Times: [19, 48, 75, 87, 21, 83, 16, 48, 56, 80, 45, 83, 14, 52, 95, 48, 64, 90, 27, 75, 74, 82, 7, 57, 80, 19, 58, 13, 89, 38, 35, 39, 85, 72, 42, 38, 60, 37, 49, 22, 61, 27, 97, 32, 50, 93, 53, 67, 1, 80, 23, 17, 1, 88, 99, 47, 94, 65, 66, 30, 37, 44, 19, 62, 97, 90, 26, 20, 96, 99, 77, 73, 19, 81, 80, 56, 11, 92, 15, 27, 89, 22, 1, 31, 72, 16, 1, 44, 60, 55, 77, 36, 86, 23, 98, 50, 47, 89, 36, 7]\n",
      "Matriz com Setups\n",
      "(105, 105)\n"
     ]
    }
   ],
   "source": [
    "import pandas as pd\n",
    "\n",
    "\n",
    "class InstanceData:\n",
    "    def __init__(self, machines: int, jobs: int, times: list[int], setups: list[list[int]]):\n",
    "        self.M = range(machines)\n",
    "        self.J = range(jobs)\n",
    "        self.T = times\n",
    "        self.S = setups\n",
    "\n",
    "\n",
    "def read_file(file) -> InstanceData:\n",
    "\n",
    "    # gera um vetor com conteudo de cada linha em cada posição\n",
    "    data = open(file, 'r').readlines()\n",
    "\n",
    "    #-----------------machines ----------------------------#\n",
    "    machines = int(data[0])\n",
    "\n",
    "    # -----------------jobs ------------------------------#\n",
    "    jobs = int(data[1])\n",
    "\n",
    "    # --------------- times -------------------------------#\n",
    "    # segunda linha em diante até linha 2 + quantidade de jobs\n",
    "    str_times = ' '.join(str(i) for i in data[2: 2 + jobs])\n",
    "    times = [int(i) for i in str_times.split() if i.isdigit()]\n",
    "\n",
    "    # ------------------ setup --------------------------#\n",
    "    # depois da 2 + n jobs + machines (zeros) até  total de linhas - (2 + n jobs + machines) tempos de setup\n",
    "    jm = jobs + machines  # tarefas + maquinas dummys (linhas zeros)\n",
    "\n",
    "    str_setups = ' '.join(str(i) for i in data[2 + jm: len(data) - 2 + jm])\n",
    "    setups_list = [int(i) for i in str_setups.split() if i.isdigit()]\n",
    "    setups_matrix = [setups_list[i::jm] for i in range(jm)]\n",
    "\n",
    "    return InstanceData(machines, jobs, times, setups_matrix)\n",
    "\n",
    "\n",
    "if __name__ == \"__main__\":\n",
    "\n",
    "    file = 'dados_trab_5_100_struc_05'\n",
    "\n",
    "    # extraindo dados de uma instância\n",
    "    instance = read_file(file)\n",
    "\n",
    "    print(f\"Machine: {len(instance.M)}\")\n",
    "    print(f\"Jobs: {len(instance.J)}\")\n",
    "    print(f\"Times: {instance.T}\")\n",
    "    print(\"Matriz com Setups\")\n",
    "    print(pd.DataFrame(instance.S).T.shape)\n"
   ]
  }
 ],
 "metadata": {
  "kernelspec": {
   "display_name": "Python 3.9.13 64-bit (microsoft store)",
   "language": "python",
   "name": "python3"
  },
  "language_info": {
   "codemirror_mode": {
    "name": "ipython",
    "version": 3
   },
   "file_extension": ".py",
   "mimetype": "text/x-python",
   "name": "python",
   "nbconvert_exporter": "python",
   "pygments_lexer": "ipython3",
   "version": "3.9.13"
  },
  "orig_nbformat": 4,
  "vscode": {
   "interpreter": {
    "hash": "d4ecc00314b053340c011f30feae2cb0599056a19fa729c140ca6ecfe444bda2"
   }
  }
 },
 "nbformat": 4,
 "nbformat_minor": 2
}

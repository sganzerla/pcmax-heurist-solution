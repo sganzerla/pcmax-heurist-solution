{
 "cells": [
  {
   "cell_type": "code",
   "execution_count": 48,
   "metadata": {},
   "outputs": [
    {
     "name": "stdout",
     "output_type": "stream",
     "text": [
      "Machine: 2\n",
      "Jobs: 10\n",
      "Times: [1, 2, 3, 4, 5, 6, 7, 8, 9, 10]\n",
      "Matriz com Setups\n",
      "     0    1    2    3    4    5    6    7    8    9\n",
      "0  500   93   48   22   65   91   16   81   48   87\n",
      "1   56  500   94   93   96   48   81   60   49   27\n",
      "2   55   49  500   82   54   21   68   20   25   20\n",
      "3   17   21    6  500   83   87   14   82   42   76\n",
      "4   29   34   37   71  500   66   37   66   28   52\n",
      "5   28   35   38   72   12  500   89   10   46   29\n",
      "6   29   50   46   80   28   64  500   56   28   66\n",
      "7   69   63   73  103   49   95   94  500   54   90\n",
      "8   26   30   17   26   41    8   16   31  500   19\n",
      "9   51   31   33   19   54   30   50   12   21  500\n"
     ]
    }
   ],
   "source": [
    "import pandas as pd\n",
    "\n",
    "\n",
    "class InstanceData:\n",
    "    def __init__(self, machines: int, jobs: int, times: list[int], setups: list[list[int]]):\n",
    "        self.M = range(machines)\n",
    "        self.J = range(jobs)\n",
    "        self.T = times\n",
    "        self.S = setups\n",
    "\n",
    "\n",
    "def read_file(file) -> InstanceData:\n",
    "\n",
    "    # gera um vetor com conteudo de cada linha em cada posição\n",
    "    data = open(file, 'r').readlines()\n",
    "\n",
    "    #-----------------machines ----------------------------#\n",
    "    machines = int(data[0])\n",
    "\n",
    "    # -----------------jobs ------------------------------#\n",
    "    jobs = int(data[1])\n",
    "\n",
    "    # --------------- times -------------------------------#\n",
    "    # segunda linha em diante até linha 2 + quantidade de jobs\n",
    "    str_times = ' '.join(str(i) for i in data[2: 2 + jobs])\n",
    "    times = [int(i) for i in str_times.split() if i.isdigit()]\n",
    "\n",
    "    # ------------------ setup --------------------------#\n",
    "    # depois da 2 + n jobs + machines (zeros) até  total de linhas - (2 + n jobs + machines) tempos de setup\n",
    "    jm = jobs + machines  # tarefas + maquinas dummys (linhas zeros)\n",
    "\n",
    "    str_setups = ' '.join(str(i) for i in data[2 + jm: len(data) - 2 + jm])\n",
    "    setups_list = [int(i) for i in str_setups.split() if i.isdigit()]\n",
    "    setups_matrix = [setups_list[i::jm] for i in range(jm)]\n",
    "\n",
    "    df = pd.DataFrame(setups_matrix)\n",
    "\n",
    "    # apagando últimas linhas dummy\n",
    "    df.drop(df.tail(machines).index, inplace=True)\n",
    "    # apagando últimas colunas dummy\n",
    "    index_column = [i for i in range(jobs + machines) if i >= jobs]\n",
    "    df.drop(df.columns[index_column], axis=1, inplace=True)\n",
    "\n",
    "    return InstanceData(machines, jobs, times, df.T)\n",
    "\n",
    "\n",
    "if __name__ == \"__main__\":\n",
    "\n",
    "    file = 's_g01_01_0009_010_02_01.txt'\n",
    "\n",
    "    # extraindo dados de uma instância\n",
    "    instance = read_file(file)\n",
    "\n",
    "    print(f\"Machine: {len(instance.M)}\")\n",
    "    print(f\"Jobs: {len(instance.J)}\")\n",
    "    print(f\"Times: {instance.T}\")\n",
    "    print(\"Matriz com Setups\")\n",
    "    print(pd.DataFrame(instance.S))\n"
   ]
  }
 ],
 "metadata": {
  "kernelspec": {
   "display_name": "Python 3.9.13 64-bit (microsoft store)",
   "language": "python",
   "name": "python3"
  },
  "language_info": {
   "codemirror_mode": {
    "name": "ipython",
    "version": 3
   },
   "file_extension": ".py",
   "mimetype": "text/x-python",
   "name": "python",
   "nbconvert_exporter": "python",
   "pygments_lexer": "ipython3",
   "version": "3.9.13"
  },
  "orig_nbformat": 4,
  "vscode": {
   "interpreter": {
    "hash": "d4ecc00314b053340c011f30feae2cb0599056a19fa729c140ca6ecfe444bda2"
   }
  }
 },
 "nbformat": 4,
 "nbformat_minor": 2
}
